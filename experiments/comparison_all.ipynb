{
 "cells": [
  {
   "cell_type": "code",
   "id": "initial_id",
   "metadata": {
    "collapsed": true,
    "ExecuteTime": {
     "end_time": "2024-05-20T12:08:18.672672Z",
     "start_time": "2024-05-20T12:08:18.670720Z"
    }
   },
   "source": [
    "import pandas as pd\n",
    "from collections import namedtuple\n",
    "from scipy.stats import ttest_rel\n",
    "from collections import defaultdict\n",
    "import seaborn as sns\n",
    "import matplotlib.pyplot as plt"
   ],
   "outputs": [],
   "execution_count": 1
  },
  {
   "cell_type": "code",
   "source": [
    "MAIN_DATA_PATH = \"../../ilmart-data\""
   ],
   "metadata": {
    "collapsed": false,
    "ExecuteTime": {
     "end_time": "2024-05-20T12:08:18.674894Z",
     "start_time": "2024-05-20T12:08:18.673336Z"
    }
   },
   "id": "7d485c56e3451017",
   "outputs": [],
   "execution_count": 2
  },
  {
   "cell_type": "code",
   "source": [
    "CSVRow = namedtuple(\"CSVRow\", [\"dataset\", \"method\", \"ndcg1\", \"ndcg5\", \"ndcg10\", \"M\", \"I\", \"sign_ndcg1\", \"sign_ndcg5\",\n",
    "                               \"sign_ndcg10\"])\n",
    "CUTOFFS = [1, 5, 10]\n",
    "N_FEATS = {\"web30k\": 136, \"yahoo\": 699, \"istella\": 220}\n",
    "EBM_FIXED_N_INTER = 50\n",
    "ILMART_STRATEGIES = [\"greedy\", \"prev\", \"contrib\"]\n",
    "P_VALUE_THRESHOLD = 0.01\n",
    "BONFERRONI_CORRETION_COEFF = 14"
   ],
   "metadata": {
    "collapsed": false,
    "ExecuteTime": {
     "end_time": "2024-05-20T12:08:18.678338Z",
     "start_time": "2024-05-20T12:08:18.675479Z"
    }
   },
   "id": "77ed8b802a089bf2",
   "outputs": [],
   "execution_count": 3
  },
  {
   "cell_type": "markdown",
   "source": [
    "# Table 3"
   ],
   "metadata": {
    "collapsed": false
   },
   "id": "4d90c3862eca48fd"
  },
  {
   "cell_type": "code",
   "source": [
    "table3 = []\n",
    "best_ndcg_per_dataset = {1: {\"web30k\": 0, \"yahoo\": 0, \"istella\": 0},\n",
    "                         5: {\"web30k\": 0, \"yahoo\": 0, \"istella\": 0},\n",
    "                         10: {\"web30k\": 0, \"yahoo\": 0, \"istella\": 0}}"
   ],
   "metadata": {
    "collapsed": false,
    "ExecuteTime": {
     "end_time": "2024-05-20T12:08:19.701909Z",
     "start_time": "2024-05-20T12:08:19.699312Z"
    }
   },
   "id": "b87595c465db0cd2",
   "outputs": [],
   "execution_count": 4
  },
  {
   "cell_type": "markdown",
   "source": [
    "NRGAM"
   ],
   "metadata": {
    "collapsed": false
   },
   "id": "a13c79e4a9d83f17"
  },
  {
   "cell_type": "code",
   "source": [
    "df = pd.read_csv(f\"{MAIN_DATA_PATH}/nrgam/eval.csv\")\n",
    "baseline_infos = defaultdict(dict)\n",
    "for dataset_name in df[\"dataset\"].unique():\n",
    "    df_dataset = df[(df[\"dataset\"] == dataset_name)]\n",
    "    mean_ndcgs = {}\n",
    "    for cutoff in CUTOFFS:\n",
    "        mean_ndcgs[cutoff] = df_dataset[df_dataset[\"cutoff\"] == cutoff][\"ndcg\"].mean()\n",
    "        best_ndcg_per_dataset[cutoff][dataset_name] = max(mean_ndcgs[cutoff],\n",
    "                                                          best_ndcg_per_dataset[cutoff][dataset_name])\n",
    "        baseline_df = df_dataset[df_dataset[\"cutoff\"] == cutoff][[\"ndcg\", \"query_id\"]]\n",
    "        baseline_df = baseline_df.sort_values(by=\"query_id\")\n",
    "        baseline = baseline_df[\"ndcg\"].to_numpy()\n",
    "        query_ids = baseline_df[\"query_id\"].to_numpy()\n",
    "        baseline_infos[dataset_name][cutoff] = baseline, query_ids\n",
    "    table3.append(CSVRow(dataset_name,\n",
    "                         r\"\\nrgam\",\n",
    "                         mean_ndcgs[1],\n",
    "                         mean_ndcgs[5],\n",
    "                         mean_ndcgs[10],\n",
    "                         N_FEATS[dataset_name],\n",
    "                         0,\n",
    "                         False,\n",
    "                         False,\n",
    "                         False))"
   ],
   "metadata": {
    "collapsed": false,
    "ExecuteTime": {
     "end_time": "2024-05-20T12:08:20.897812Z",
     "start_time": "2024-05-20T12:08:20.859712Z"
    }
   },
   "id": "1eb32b4a3ea90252",
   "outputs": [],
   "execution_count": 5
  },
  {
   "cell_type": "markdown",
   "source": [
    "EBM"
   ],
   "metadata": {
    "collapsed": false
   },
   "id": "4567721ba4d01c45"
  },
  {
   "cell_type": "code",
   "source": [
    "\n",
    "df = pd.read_csv(f\"{MAIN_DATA_PATH}/ebm/eval.csv\")\n",
    "for dataset_name in df[\"dataset\"].unique():\n",
    "    for inter_attr in [\"no-inter\", \"inter\"]:\n",
    "        df_dataset = df[(df[\"dataset\"] == dataset_name) & (df[\"inter\"] == inter_attr)]\n",
    "        mean_ndcgs = {}\n",
    "        sign_ndcgs = {}\n",
    "        for cutoff in CUTOFFS:\n",
    "            mean_ndcgs[cutoff] = df_dataset[df_dataset[\"cutoff\"] == cutoff][\"ndcg\"].mean()\n",
    "            best_ndcg_per_dataset[cutoff][dataset_name] = max(mean_ndcgs[cutoff],\n",
    "                                                              best_ndcg_per_dataset[cutoff][dataset_name])\n",
    "\n",
    "            baseline_ndcgs, baseline_ids = baseline_infos[dataset_name][cutoff]\n",
    "            mean_baseline = baseline_ndcgs.mean()\n",
    "\n",
    "            experimental_ndcgs_df = df_dataset[df_dataset[\"cutoff\"] == cutoff][[\"ndcg\", \"query_id\"]]\n",
    "            experimental_ndcgs_df = experimental_ndcgs_df.sort_values(by=\"query_id\")\n",
    "            experimental_ndcgs = experimental_ndcgs_df[\"ndcg\"].to_numpy()\n",
    "            experiment_qids = experimental_ndcgs_df[\"query_id\"].to_numpy()\n",
    "            if not (baseline_ids == experiment_qids).all():\n",
    "                raise ValueError(\"Query ids are not the same\")\n",
    "            statistic, p_value = ttest_rel(baseline_ndcgs, experimental_ndcgs)\n",
    "\n",
    "            sign_ndcgs[cutoff] = False\n",
    "            if mean_ndcgs[cutoff] > mean_baseline and p_value < P_VALUE_THRESHOLD / BONFERRONI_CORRETION_COEFF:\n",
    "                sign_ndcgs[cutoff] = True\n",
    "\n",
    "        name = r\"\\ebm$_i$\" if inter_attr == \"inter\" else r\"\\ebm\"\n",
    "        table3.append(CSVRow(dataset_name,\n",
    "                             name,\n",
    "                             mean_ndcgs[1],\n",
    "                             mean_ndcgs[5],\n",
    "                             mean_ndcgs[10],\n",
    "                             N_FEATS[dataset_name],\n",
    "                             EBM_FIXED_N_INTER if inter_attr == \"inter\" else 0,\n",
    "                             sign_ndcgs[1],\n",
    "                             sign_ndcgs[5],\n",
    "                             sign_ndcgs[10]\n",
    "                             ))"
   ],
   "metadata": {
    "collapsed": false,
    "ExecuteTime": {
     "end_time": "2024-05-20T12:08:22.154471Z",
     "start_time": "2024-05-20T12:08:22.033513Z"
    }
   },
   "id": "57f1a1fe8c6321a",
   "outputs": [],
   "execution_count": 6
  },
  {
   "cell_type": "markdown",
   "source": [
    "Ilmart"
   ],
   "metadata": {
    "collapsed": false
   },
   "id": "906bdc9bb75e5264"
  },
  {
   "cell_type": "code",
   "source": [
    "df = pd.read_csv(f\"{MAIN_DATA_PATH}/ft/eval.csv\")\n",
    "STRATEGY_MAPPING = {\"greedy\": {\"no\": r\"\\ilmartgreedy\",\n",
    "                               \"greedy\": r\"\\ilmartgreedygreedy\",\n",
    "                               \"prev\": r\"\\ilmartgreedyprev\",\n",
    "                               \"contrib\": r\"\\ilmartgreedycontrib\"},\n",
    "                    \"prev\": {\"no\": r\"\\ilmartprev\",\n",
    "                             \"greedy\": r\"\\ilmartprevgreedy\",\n",
    "                             \"prev\": r\"\\ilmartprevprev\",\n",
    "                             \"contrib\": r\"\\ilmartprevcontrib\"},\n",
    "                    \"contrib\": {\"no\": r\"\\ilmartcontrib\",\n",
    "                                \"greedy\": r\"\\ilmartcontribgreedy\",\n",
    "                                \"prev\": r\"\\ilmartcontribprev\",\n",
    "                                \"contrib\": r\"\\ilmartcontribcontrib\"}}\n",
    "\n",
    "for dataset_name in df[\"dataset\"].unique():\n",
    "    df_dataset = df[(df[\"dataset\"] == dataset_name)]\n",
    "    for main_strategy in ILMART_STRATEGIES:\n",
    "        for inter_strategy in ILMART_STRATEGIES + [\"no\"]:\n",
    "            main_strategy_df = df_dataset[df_dataset[\"main_strategy\"] == main_strategy]\n",
    "            if inter_strategy != \"no\":\n",
    "                df_strategy = main_strategy_df[main_strategy_df[\"inter_strategy\"] == inter_strategy]\n",
    "            else:\n",
    "                df_strategy = main_strategy_df[main_strategy_df[\"inter_strategy\"].isna()]\n",
    "\n",
    "            strategy_name = STRATEGY_MAPPING[main_strategy][inter_strategy]\n",
    "            n_main_effects = df_strategy[\"n_main_effects\"].iloc[0]\n",
    "            n_inter_effects = df_strategy[\"n_inter_effects\"].iloc[0]\n",
    "\n",
    "            mean_ndcgs = {}\n",
    "            sign_ndcgs = {}\n",
    "\n",
    "            for cutoff in CUTOFFS:\n",
    "                mean_ndcgs[cutoff] = df_strategy[df_strategy[\"cutoff\"] == cutoff][\"ndcg\"].mean()\n",
    "                best_ndcg_per_dataset[cutoff][dataset_name] = max(mean_ndcgs[cutoff],\n",
    "                                                                  best_ndcg_per_dataset[cutoff][dataset_name])\n",
    "\n",
    "                baseline_ndcgs, baseline_ids = baseline_infos[dataset_name][cutoff]\n",
    "                mean_baseline = baseline_ndcgs.mean()\n",
    "\n",
    "                experimental_ndcgs_df = df_strategy[df_strategy[\"cutoff\"] == cutoff][[\"ndcg\", \"query_id\"]]\n",
    "                experimental_ndcgs_df = experimental_ndcgs_df.sort_values(by=\"query_id\")\n",
    "                experimental_ndcgs = experimental_ndcgs_df[\"ndcg\"].to_numpy()\n",
    "                experiment_qids = experimental_ndcgs_df[\"query_id\"].to_numpy()\n",
    "\n",
    "                if not (baseline_ids == experiment_qids).all():\n",
    "                    raise ValueError(\"Query ids are not the same\")\n",
    "                statistic, p_value = ttest_rel(baseline_ndcgs, experimental_ndcgs)\n",
    "\n",
    "                sign_ndcgs[cutoff] = False\n",
    "\n",
    "                if mean_ndcgs[cutoff] > mean_baseline and p_value < P_VALUE_THRESHOLD / BONFERRONI_CORRETION_COEFF:\n",
    "                    sign_ndcgs[cutoff] = True\n",
    "\n",
    "            table3.append(CSVRow(dataset_name,\n",
    "                                 strategy_name,\n",
    "                                 mean_ndcgs[1],\n",
    "                                 mean_ndcgs[5],\n",
    "                                 mean_ndcgs[10],\n",
    "                                 n_main_effects,\n",
    "                                 n_inter_effects,\n",
    "                                 sign_ndcgs[1],\n",
    "                                 sign_ndcgs[5],\n",
    "                                 sign_ndcgs[10]))\n"
   ],
   "metadata": {
    "collapsed": false,
    "ExecuteTime": {
     "end_time": "2024-05-20T12:08:24.335911Z",
     "start_time": "2024-05-20T12:08:23.269314Z"
    }
   },
   "id": "91f4018a26e730b8",
   "outputs": [],
   "execution_count": 7
  },
  {
   "cell_type": "code",
   "source": [
    "for dataset_name in [\"web30k\", \"yahoo\", \"istella\"]:\n",
    "    to_print = pd.DataFrame(table3)\n",
    "    to_print = to_print[to_print[\"dataset\"] == dataset_name]\n",
    "    baseline_ndcg = to_print[to_print[\"method\"] == r\"\\nrgam\"][\"ndcg10\"].values\n",
    "    to_print[\"delta\"] = (to_print[\"ndcg10\"].values - baseline_ndcg) / baseline_ndcg\n",
    "    to_print[\"delta\"] = to_print[\"delta\"].apply(lambda x: f\"+{x * 100:.2f}\" if x > 0 else f\"{x * 100:.2f}\")\n",
    "    to_print = to_print.drop(columns=\"dataset\")\n",
    "    to_print[\"method\"] = pd.Categorical(to_print['method'],\n",
    "                                        [r\"\\nrgam\",\n",
    "                                         r\"\\ebm\",\n",
    "                                         r\"\\ilmartgreedy\",\n",
    "                                         r\"\\ilmartprev\",\n",
    "                                         r\"\\ilmartcontrib\",\n",
    "                                         r\"\\ebm$_i$\",\n",
    "                                         r\"\\ilmartgreedygreedy\",\n",
    "                                         r\"\\ilmartgreedyprev\",\n",
    "                                         r\"\\ilmartgreedycontrib\",\n",
    "                                         r\"\\ilmartprevgreedy\",\n",
    "                                         r\"\\ilmartprevprev\",\n",
    "                                         r\"\\ilmartprevcontrib\",\n",
    "                                         r\"\\ilmartcontribgreedy\",\n",
    "                                         r\"\\ilmartcontribprev\",\n",
    "                                         r\"\\ilmartcontribcontrib\",\n",
    "                                         ])\n",
    "    to_print = to_print.sort_values(by=[\"method\"])\n",
    "    for idx, row in to_print.iterrows():\n",
    "        for cutoff in CUTOFFS:\n",
    "            the_best = best_ndcg_per_dataset[cutoff][dataset_name] == row[f\"ndcg{cutoff}\"]\n",
    "            if row[f\"sign_ndcg{cutoff}\"] and the_best:\n",
    "                to_print.loc[idx, f\"ndcg{cutoff}\"] = f\"$\\\\mathbf{{{row[f'ndcg{cutoff}']:.4f}}}^*$\"\n",
    "            elif row[f\"sign_ndcg{cutoff}\"]:\n",
    "                to_print.loc[idx, f\"ndcg{cutoff}\"] = f\"${row[f'ndcg{cutoff}']:.4f}^*$\"\n",
    "            else:\n",
    "                to_print.loc[idx, f\"ndcg{cutoff}\"] = f\"${row[f'ndcg{cutoff}']:.4f}$\"\n",
    "\n",
    "    to_print = to_print.drop(columns=[\"sign_ndcg1\", \"sign_ndcg5\", \"sign_ndcg10\"])\n",
    "    latex_res = to_print.style.hide(axis=0).to_latex()\n",
    "    latex_list = latex_res.splitlines()\n",
    "    for idx_mid_rule in [7]:\n",
    "        latex_list.insert(idx_mid_rule, '\\midrule')\n",
    "\n",
    "    latex_list[\n",
    "        1] = r\"Method &              nDCG@1 &             nDCG@5 &             nDCG@10 &   $|\\mathcal{M}|$ & $|\\mathcal{I}|$&  \\%$\\Delta$ \\\\\"\n",
    "    latex_res = '\\n'.join(latex_list)\n",
    "    print(latex_res)\n",
    "    print(\"-\" * 10)"
   ],
   "metadata": {
    "collapsed": false,
    "ExecuteTime": {
     "end_time": "2024-05-20T12:08:24.428829Z",
     "start_time": "2024-05-20T12:08:24.365525Z"
    }
   },
   "id": "3abf5b04e1ccee18",
   "outputs": [
    {
     "name": "stdout",
     "output_type": "stream",
     "text": [
      "\\begin{tabular}{llllrrl}\n",
      "Method &              nDCG@1 &             nDCG@5 &             nDCG@10 &   $|\\mathcal{M}|$ & $|\\mathcal{I}|$&  \\%$\\Delta$ \\\\\n",
      "\\nrgam & $0.4346$ & $0.4310$ & $0.4514$ & 136 & 0 & 0.00 \\\\\n",
      "\\ebm & $0.4163$ & $0.4302$ & $0.4552$ & 136 & 0 & +0.85 \\\\\n",
      "\\ilmartgreedy & $0.4553^*$ & $0.4519^*$ & $0.4721^*$ & 50 & 0 & +4.58 \\\\\n",
      "\\ilmartprev & $0.4470$ & $0.4467^*$ & $0.4669^*$ & 42 & 0 & +3.43 \\\\\n",
      "\\ilmartcontrib & $0.4557^*$ & $0.4506^*$ & $0.4714^*$ & 50 & 0 & +4.43 \\\\\n",
      "\\midrule\n",
      "\\ebm$_i$ & $0.4688^*$ & $0.4615^*$ & $0.4814^*$ & 136 & 50 & +6.65 \\\\\n",
      "\\ilmartgreedygreedy & $0.4918^*$ & $0.4801^*$ & $0.4972^*$ & 50 & 50 & +10.15 \\\\\n",
      "\\ilmartgreedyprev & $0.4847^*$ & $0.4737^*$ & $0.4924^*$ & 50 & 46 & +9.08 \\\\\n",
      "\\ilmartgreedycontrib & $0.4900^*$ & $0.4800^*$ & $0.4958^*$ & 50 & 49 & +9.83 \\\\\n",
      "\\ilmartprevgreedy & $0.4867^*$ & $0.4752^*$ & $0.4920^*$ & 42 & 50 & +8.99 \\\\\n",
      "\\ilmartprevprev & $0.4791^*$ & $0.4710^*$ & $0.4883^*$ & 42 & 50 & +8.17 \\\\\n",
      "\\ilmartprevcontrib & $\\mathbf{0.4958}^*$ & $0.4816^*$ & $0.4971^*$ & 42 & 50 & +10.13 \\\\\n",
      "\\ilmartcontribgreedy & $0.4880^*$ & $0.4788^*$ & $0.4957^*$ & 50 & 50 & +9.81 \\\\\n",
      "\\ilmartcontribprev & $0.4819^*$ & $0.4726^*$ & $0.4922^*$ & 50 & 50 & +9.04 \\\\\n",
      "\\ilmartcontribcontrib & $0.4917^*$ & $\\mathbf{0.4820}^*$ & $\\mathbf{0.4978}^*$ & 50 & 48 & +10.28 \\\\\n",
      "\\end{tabular}\n",
      "----------\n",
      "\\begin{tabular}{llllrrl}\n",
      "Method &              nDCG@1 &             nDCG@5 &             nDCG@10 &   $|\\mathcal{M}|$ & $|\\mathcal{I}|$&  \\%$\\Delta$ \\\\\n",
      "\\nrgam & $0.6821$ & $0.7028$ & $0.7520$ & 699 & 0 & 0.00 \\\\\n",
      "\\ebm & $0.6987^*$ & $0.7277^*$ & $0.7732^*$ & 699 & 0 & +2.82 \\\\\n",
      "\\ilmartgreedy & $0.7076^*$ & $0.7255^*$ & $0.7704^*$ & 50 & 0 & +2.45 \\\\\n",
      "\\ilmartprev & $0.7036^*$ & $0.7237^*$ & $0.7686^*$ & 40 & 0 & +2.20 \\\\\n",
      "\\ilmartcontrib & $0.7066^*$ & $0.7255^*$ & $0.7706^*$ & 50 & 0 & +2.47 \\\\\n",
      "\\midrule\n",
      "\\ebm$_i$ & $0.7006^*$ & $0.7278^*$ & $0.7741^*$ & 699 & 50 & +2.94 \\\\\n",
      "\\ilmartgreedygreedy & $0.7085^*$ & $0.7285^*$ & $0.7739^*$ & 50 & 50 & +2.91 \\\\\n",
      "\\ilmartgreedyprev & $\\mathbf{0.7112}^*$ & $0.7294^*$ & $0.7734^*$ & 50 & 38 & +2.83 \\\\\n",
      "\\ilmartgreedycontrib & $0.7080^*$ & $0.7301^*$ & $0.7745^*$ & 50 & 48 & +2.99 \\\\\n",
      "\\ilmartprevgreedy & $0.7067^*$ & $0.7277^*$ & $0.7712^*$ & 40 & 50 & +2.55 \\\\\n",
      "\\ilmartprevprev & $0.7086^*$ & $0.7288^*$ & $0.7724^*$ & 40 & 37 & +2.71 \\\\\n",
      "\\ilmartprevcontrib & $0.7108^*$ & $\\mathbf{0.7310}^*$ & $0.7743^*$ & 40 & 48 & +2.96 \\\\\n",
      "\\ilmartcontribgreedy & $0.7090^*$ & $0.7304^*$ & $0.7744^*$ & 50 & 50 & +2.97 \\\\\n",
      "\\ilmartcontribprev & $0.7081^*$ & $0.7287^*$ & $0.7740^*$ & 50 & 50 & +2.93 \\\\\n",
      "\\ilmartcontribcontrib & $0.7091^*$ & $0.7304^*$ & $\\mathbf{0.7752}^*$ & 50 & 48 & +3.09 \\\\\n",
      "\\end{tabular}\n",
      "----------\n",
      "\\begin{tabular}{llllrrl}\n",
      "Method &              nDCG@1 &             nDCG@5 &             nDCG@10 &   $|\\mathcal{M}|$ & $|\\mathcal{I}|$&  \\%$\\Delta$ \\\\\n",
      "\\nrgam & $0.6384$ & $0.6362$ & $0.6981$ & 220 & 0 & 0.00 \\\\\n",
      "\\ebm & $0.5774$ & $0.6009$ & $0.6739$ & 220 & 0 & -3.46 \\\\\n",
      "\\ilmartgreedy & $0.6651^*$ & $0.6566^*$ & $0.7158^*$ & 50 & 0 & +2.54 \\\\\n",
      "\\ilmartprev & $0.6605^*$ & $0.6557^*$ & $0.7168^*$ & 49 & 0 & +2.68 \\\\\n",
      "\\ilmartcontrib & $0.6646^*$ & $0.6574^*$ & $0.7159^*$ & 49 & 0 & +2.55 \\\\\n",
      "\\midrule\n",
      "\\ebm$_i$ & $0.6245$ & $0.6347$ & $0.7022$ & 220 & 50 & +0.59 \\\\\n",
      "\\ilmartgreedygreedy & $0.6834^*$ & $0.6771^*$ & $0.7367^*$ & 50 & 50 & +5.53 \\\\\n",
      "\\ilmartgreedyprev & $0.6846^*$ & $0.6794^*$ & $0.7383^*$ & 50 & 50 & +5.76 \\\\\n",
      "\\ilmartgreedycontrib & $0.6806^*$ & $0.6762^*$ & $0.7350^*$ & 50 & 50 & +5.29 \\\\\n",
      "\\ilmartprevgreedy & $0.6811^*$ & $0.6746^*$ & $0.7359^*$ & 49 & 50 & +5.41 \\\\\n",
      "\\ilmartprevprev & $\\mathbf{0.6863}^*$ & $\\mathbf{0.6834}^*$ & $\\mathbf{0.7442}^*$ & 49 & 50 & +6.60 \\\\\n",
      "\\ilmartprevcontrib & $0.6839^*$ & $0.6782^*$ & $0.7390^*$ & 49 & 50 & +5.85 \\\\\n",
      "\\ilmartcontribgreedy & $0.6810^*$ & $0.6758^*$ & $0.7358^*$ & 49 & 50 & +5.40 \\\\\n",
      "\\ilmartcontribprev & $0.6856^*$ & $0.6804^*$ & $0.7396^*$ & 49 & 50 & +5.94 \\\\\n",
      "\\ilmartcontribcontrib & $0.6774^*$ & $0.6717^*$ & $0.7315^*$ & 49 & 47 & +4.78 \\\\\n",
      "\\end{tabular}\n",
      "----------\n"
     ]
    }
   ],
   "execution_count": 8
  },
  {
   "cell_type": "markdown",
   "source": [
    "# Figure 8"
   ],
   "metadata": {
    "collapsed": false
   },
   "id": "297ee9a21a246de2"
  },
  {
   "cell_type": "code",
   "source": [
    "CUTOFF = 10\n",
    "sns.set_theme(font_scale=2, style=\"whitegrid\", rc={'text.usetex': True})\n",
    "EBM_N_INTER = 50\n",
    "\n",
    "ILMART_STRATEGY_PLOT_MAPPING = {\"greedy\": r\"ILMART$-\\sigma_{mg}$\",\n",
    "                                \"prev\": r\"ILMART$-\\sigma_{mp}$\",\n",
    "                                \"contrib\": r\"ILMART$-\\sigma_{mc}$\",\n",
    "                                \"greedy-greedy\": r\"ILMART$-\\sigma_{mg}-\\sigma_{ig}$\",\n",
    "                                \"greedy-prev\": r\"ILMART$-\\sigma_{mg}-\\sigma_{ip}$\",\n",
    "                                \"greedy-contrib\": r\"ILMART$-\\sigma_{mg}-\\sigma_{ip}$\",\n",
    "                                \"prev-greedy\": r\"ILMART$-\\sigma_{mp}-\\sigma_{ig}$\",\n",
    "                                \"prev-prev\": r\"ILMART$-\\sigma_{mp}-\\sigma_{ip}$\",\n",
    "                                \"prev-contrib\": r\"ILMART$-\\sigma_{mp}-\\sigma_{ip}$\",\n",
    "                                \"contrib-greedy\": r\"ILMART$-\\sigma_{mc}-\\sigma_{ig}$\",\n",
    "                                \"contrib-prev\": r\"ILMART$-\\sigma_{mc}-\\sigma_{ip}$\",\n",
    "                                \"contrib-contrib\": r\"ILMART$-\\sigma_{mc}-\\sigma_{ip}$\", }\n",
    "\n",
    "DATASET_MAPPING_PLOT = {\"web30k\": r\"\\textsc{Web30K}\",\n",
    "                        \"yahoo\": r\"\\textsc{Yahoo}\",\n",
    "                        \"istella\": r\"\\textsc{Istella-S}\"}\n",
    "\n",
    "TradeoffPlot = namedtuple(\"TradeoffPlot\", [\"Dataset\", \"Method\", \"ndcg\", \"Complexity\", \"Type\"])\n",
    "nrgam_df = pd.read_csv(f\"{MAIN_DATA_PATH}/nrgam/eval.csv\")\n",
    "ebm_df = pd.read_csv(f\"{MAIN_DATA_PATH}/ebm/eval.csv\")\n",
    "ilmart_df = pd.read_csv(f\"{MAIN_DATA_PATH}/ft/eval.csv\")\n",
    "\n",
    "tradeoff_plots_entry = []\n",
    "for dataset_name in nrgam_df[\"dataset\"].unique():\n",
    "    nrgam_ndcg = nrgam_df[(nrgam_df[\"dataset\"] == dataset_name) & (nrgam_df[\"cutoff\"] == CUTOFF)][\"ndcg\"].mean()\n",
    "    tradeoff_plots_entry.append(\n",
    "        TradeoffPlot(DATASET_MAPPING_PLOT[dataset_name], \"NRGAM\", nrgam_ndcg, N_FEATS[dataset_name], \"NRGAM\"))\n",
    "\n",
    "    # EBM no inter\n",
    "    ebm_filter = (ebm_df[\"dataset\"] == dataset_name) & (ebm_df[\"cutoff\"] == CUTOFF)\n",
    "    ebm_fileter_no_inter = ebm_filter & (ebm_df[\"inter\"] == \"no-inter\")\n",
    "    ebm_ndcg = ebm_df[ebm_fileter_no_inter][\"ndcg\"].mean()\n",
    "    tradeoff_plots_entry.append(\n",
    "        TradeoffPlot(DATASET_MAPPING_PLOT[dataset_name], r\"EBM\", ebm_ndcg, N_FEATS[dataset_name], \"EBM\"))\n",
    "\n",
    "    # EBM inter\n",
    "    ebf_filter_inter = ebm_filter & (ebm_df[\"inter\"] == \"inter\")\n",
    "    ebm_ndcg = ebm_df[ebf_filter_inter][\"ndcg\"].mean()\n",
    "    tradeoff_plots_entry.append(TradeoffPlot(DATASET_MAPPING_PLOT[dataset_name],\n",
    "                                             r\"EBM$_i$\",\n",
    "                                             ebm_ndcg,\n",
    "                                             N_FEATS[dataset_name] + EBM_N_INTER * 2,\n",
    "                                             \"EBM\"))\n",
    "\n",
    "    for strategy_main in ILMART_STRATEGIES:\n",
    "        ilmart_filter = ((ilmart_df[\"dataset\"] == dataset_name) &\n",
    "                         (ilmart_df[\"cutoff\"] == CUTOFF) &\n",
    "                         (ilmart_df[\"main_strategy\"] == strategy_main))\n",
    "        ilmart_filter_main = ilmart_filter & (ilmart_df[\"n_inter_effects\"] == 0)\n",
    "        ilmart_ndcg = ilmart_df[ilmart_filter_main][\"ndcg\"].mean()\n",
    "        ilmart_n_feat_used = ilmart_df[ilmart_filter_main][\"n_main_effects\"].iloc[0]\n",
    "        tradeoff_plots_entry.append(TradeoffPlot(DATASET_MAPPING_PLOT[dataset_name],\n",
    "                                                 f\"{ILMART_STRATEGY_PLOT_MAPPING[strategy_main]}\",\n",
    "                                                 ilmart_ndcg,\n",
    "                                                 ilmart_n_feat_used, \"ILMART without interactions\"))\n",
    "\n",
    "        for strategy_inter in ILMART_STRATEGIES:\n",
    "            ilmart_filter_inter = ilmart_filter & (ilmart_df[\"inter_strategy\"] == strategy_inter)\n",
    "            ilmart_ndcg = ilmart_df[ilmart_filter_inter][\"ndcg\"].mean()\n",
    "            ilmart_n_main_effects = ilmart_df[ilmart_filter_inter][\"n_main_effects\"].iloc[0]\n",
    "            ilmart_n_inter_effects = ilmart_df[ilmart_filter_inter][\"n_inter_effects\"].iloc[0]\n",
    "            tradeoff_plots_entry.append(TradeoffPlot(DATASET_MAPPING_PLOT[dataset_name],\n",
    "                                                     f\"{ILMART_STRATEGY_PLOT_MAPPING[f'{strategy_main}-{strategy_inter}']}\",\n",
    "                                                     ilmart_ndcg,\n",
    "                                                     ilmart_n_feat_used + ilmart_n_inter_effects * 2,\n",
    "                                                     \"ILMART with interactions\"))\n",
    "\n",
    "greens = sns.color_palette(\"Greens\", 12)\n",
    "oranges = sns.color_palette(\"Oranges\", 2)\n",
    "standard_palette = sns.color_palette(None, 1)\n",
    "\n",
    "df_to_plot = pd.DataFrame(tradeoff_plots_entry)\n",
    "fg = sns.relplot(data=pd.DataFrame(tradeoff_plots_entry),\n",
    "                 x=\"Complexity\",\n",
    "                 y=\"ndcg\",\n",
    "                 col=\"Dataset\",\n",
    "                 hue=\"Type\",\n",
    "                 style=\"Type\",\n",
    "                 s=200,\n",
    "                 facet_kws={'sharey': False, \"sharex\": False})\n",
    "fg.set_titles(col_template=\"{col_name}\")\n",
    "fg.set_ylabels(r\"$nDCG@10$\")\n",
    "fg.set_xlabels(r\"Complexity\")\n",
    "sns.move_legend(fg, \"lower center\", bbox_to_anchor=(0.5, -0.2), ncol=4)\n",
    "fg.add_legend()\n",
    "plt.savefig(\"plots/comparison.pdf\", bbox_inches=\"tight\")\n"
   ],
   "metadata": {
    "collapsed": false,
    "ExecuteTime": {
     "end_time": "2024-05-20T12:08:29.169112Z",
     "start_time": "2024-05-20T12:08:26.901576Z"
    }
   },
   "id": "583ac2cdc6a5cdcb",
   "outputs": [
    {
     "data": {
      "text/plain": [
       "<Figure size 1987.45x500 with 3 Axes>"
      ],
      "image/png": "[encoded data removed]"
     },
     "metadata": {},
     "output_type": "display_data"
    }
   ],
   "execution_count": 9
  },
  {
   "metadata": {},
   "cell_type": "code",
   "outputs": [],
   "execution_count": null,
   "source": "",
   "id": "6321e2ece46702ae"
  }
 ],
 "metadata": {
  "kernelspec": {
   "display_name": "Python 3",
   "language": "python",
   "name": "python3"
  },
  "language_info": {
   "codemirror_mode": {
    "name": "ipython",
    "version": 2
   },
   "file_extension": ".py",
   "mimetype": "text/x-python",
   "name": "python",
   "nbconvert_exporter": "python",
   "pygments_lexer": "ipython2",
   "version": "2.7.6"
  }
 },
 "nbformat": 4,
 "nbformat_minor": 5
}
